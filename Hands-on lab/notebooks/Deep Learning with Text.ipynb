{
  "cells": [
    {
      "metadata": {},
      "cell_type": "markdown",
      "source": "# Train a deep learning model\nIn this notebook you will train a deep learning model to classify the descriptions of car components as compliant or non-compliant. \n\nEach document in the supplied training data set is a short text description of the component as documented by an authorized technician. \nThe contents include:\n- Manufacture year of the component (e.g. 1985, 2010)\n- Condition of the component (poor, fair, good, new)\n- Materials used in the component (plastic, carbon fiber, steel, iron)\n\nThe compliance regulations dictate:\n*Any component manufactured before 1995 or in fair or poor condition or made with plastic or iron is out of compliance.*\n\nFor example:\n* Manufactured in 1985 made of steel in fair condition -> **Non-compliant**\n* Good condition carbon fiber component manufactured in 2010 -> **Compliant**\n* Steel component manufactured in 1995 in fair condition -> **Non-Compliant**\n\nThe labels present in this data are 0 for compliant, 1 for non-compliant.\n\nThe challenge with classifying text data is that deep learning models only undertand vectors (e.g., arrays of numbers) and not text. To encode the car component descriptions as vectors, we use an algorithm from Stanford called [GloVe (Global Vectors for Word Representation)](https://nlp.stanford.edu/projects/glove/). GloVe provides us pre-trained vectors that we can use to convert a string of text into a vector."
    },
    {
      "metadata": {},
      "cell_type": "markdown",
      "source": "### Setup\nTo begin, you will need to provide the following information about your Azure Subscription.\n\n**If you are using your own Azure subscription, please provide names for subscription_id, resource_group, workspace_name and workspace_region to use.** Note that the workspace needs to be of type [Machine Learning Workspace](https://docs.microsoft.com/en-us/azure/machine-learning/service/setup-create-workspace).\n\n**If an environment is provided to you be sure to replace XXXXX in the values below with your unique identifier.**\n\nIn the following cell, be sure to set the values for `subscription_id`, `resource_group`, `workspace_name` and `workspace_region` as directed by the comments (*these values can be acquired from the Azure Portal*).\n\nTo get these values, do the following:\n1. Navigate to the Azure Portal and login with the credentials provided.\n2. From the left hand menu, under Favorites, select `Resource Groups`.\n3. In the list, select the resource group with the name similar to `XXXXX`.\n4. From the Overview tab, capture the desired values.\n\nExecute the following cell by selecting the `>|Run` button in the command bar above."
    },
    {
      "metadata": {
        "trusted": true
      },
      "cell_type": "code",
      "source": "#Provide the Subscription ID of your existing Azure subscription\nsubscription_id = \"\" # <- needs to be the subscription with the Quick-Starts resource group\n\n#Provide values for the existing Resource Group \nresource_group = \"Quick-Starts-XXXXX\" # <- replace XXXXX with your unique identifier\n\n#Provide the Workspace Name and Azure Region of the Azure Machine Learning Workspace\nworkspace_name = \"quick-starts-ws-XXXXX\" # <- replace XXXXX with your unique identifier\nworkspace_region = \"eastus\" # <- region of your Quick-Starts resource group",
      "execution_count": null,
      "outputs": []
    },
    {
      "metadata": {
        "trusted": true
      },
      "cell_type": "code",
      "source": "experiment_name = 'deep-learning'\nproject_folder = './dl'\ndeployment_folder = './deploy'\ndatasets_folder = './datasets'\n\n# this is the URL to the CSV file containing the car component descriptions\ncardata_url = ('https://quickstartsws9073123377.blob.core.windows.net/'\n            'azureml-blobstore-0d1c4218-a5f9-418b-bf55-902b65277b85/'\n            'quickstarts/connected-car-data/connected-car_components.csv')\n\ncardata_ds_name = 'connected_car_components'\ncardata_ds_description = 'Connected car components data'\n\n# this is the name of the AML Compute cluster\ncluster_name = \"gpucluster\"\n\nembedding_dim = 100                                        \ntraining_samples = 90000                                 \nvalidation_samples = 5000    \nmax_words = 10000",
      "execution_count": null,
      "outputs": []
    },
    {
      "metadata": {},
      "cell_type": "markdown",
      "source": "# Create the Azure Machine Learning resources"
    },
    {
      "metadata": {},
      "cell_type": "markdown",
      "source": "The Azure Machine Learning SDK provides a comprehensive set of a capabilities that you can use directly within a notebook including:\n- Creating a **Workspace** that acts as the root object to organize all artifacts and resources used by Azure Machine Learning.\n- Creating **Experiments** in your Workspace that capture versions of the trained model along with any desired model performance telemetry. Each time you train a model and evaluate its results, you can capture that run (model and telemetry) within an Experiment.\n- Creating **Compute** resources that can be used to scale out model training, so that while your notebook may be running in a lightweight container in Azure Notebooks, your model training can actually occur on a powerful cluster that can provide large amounts of memory, CPU or GPU. \n- Using **Automated Machine Learning (AutoML)** to automatically train multiple versions of a model using a mix of different ways to prepare the data and different algorithms and hyperparameters (algorithm settings) in search of the model that performs best according to a performance metric that you specify.\n- Packaging a Docker **Image** that contains everything your trained model needs for scoring (prediction) in order to run as a web service.\n- Deploying your Image to either Azure Kubernetes or Azure Container Instances, effectively hosting the **Web Service**.\n\nIn Azure Notebooks, all of the libraries needed for Azure Machine Learning are pre-installed. To use them, you just need to import them. Run the following cell to do so:"
    },
    {
      "metadata": {
        "trusted": true
      },
      "cell_type": "code",
      "source": "import logging\nimport os\nimport json\n\nfrom matplotlib import pyplot as plt\nfrom matplotlib.pyplot import imshow\nimport numpy as np\nimport pandas as pd\n\nimport azureml.core\nfrom azureml.core.experiment import Experiment\nfrom azureml.core.workspace import Workspace\nfrom azureml.core.model import Model\nfrom azureml.core.dataset import Dataset\nfrom azureml.core.compute import ComputeTarget, AmlCompute\nfrom azureml.core.compute_target import ComputeTargetException\nfrom azureml.widgets import RunDetails\nfrom azureml.train.dnn import TensorFlow\n\nfrom keras.models import load_model\nfrom keras.preprocessing.text import Tokenizer\nfrom keras.preprocessing.sequence import pad_sequences",
      "execution_count": null,
      "outputs": []
    },
    {
      "metadata": {},
      "cell_type": "markdown",
      "source": "## Create and connect to an Azure Machine Learning Workspace\nRun the following cell to create a new Azure Machine Learning **Workspace** and save the configuration to disk (next to the Jupyter notebook). \n\n**Important Note**: You will be prompted to login in the text that is output below the cell. Be sure to navigate to the URL displayed and enter the code that is provided. Once you have entered the code, return to this notebook and wait for the output to read `Workspace configuration succeeded`."
    },
    {
      "metadata": {
        "trusted": true
      },
      "cell_type": "code",
      "source": "# By using the exist_ok param, if the worskpace already exists you get a reference to the existing workspace\n# allowing you to re-run this cell multiple times as desired (which is fairly common in notebooks).\nws = Workspace.create(\n    name = workspace_name,\n    subscription_id = subscription_id,\n    resource_group = resource_group, \n    location = workspace_region,\n    exist_ok = True)\n\nws.write_config()\nprint('Workspace configuration succeeded')",
      "execution_count": null,
      "outputs": []
    },
    {
      "metadata": {},
      "cell_type": "markdown",
      "source": "### Create AML Compute Cluster\nNow you are ready to create the GPU compute cluster. Run the following cell to create a new compute cluster (or retrieve the existing cluster if it already exists). The code below will create a *GPU based* cluster where each node in the cluster is of the size `Standard_NC12`, and the cluster is restricted to use 1 node. This will take couple of minutes to create."
    },
    {
      "metadata": {
        "trusted": true
      },
      "cell_type": "code",
      "source": "### Create AML CPU based Compute Cluster\n\ntry:\n    compute_target = ComputeTarget(workspace=ws, name=cluster_name)\n    print('Found existing compute target.')\nexcept ComputeTargetException:\n    print('Creating a new compute target...')\n    compute_config = AmlCompute.provisioning_configuration(vm_size='Standard_NC12',\n                                                           min_nodes=1, max_nodes=1)\n\n    # create the cluster\n    compute_target = ComputeTarget.create(ws, cluster_name, compute_config)\n\n    compute_target.wait_for_completion(show_output=True)\n\n# Use the 'status' property to get a detailed status for the current AmlCompute. \nprint(compute_target.status.serialize())",
      "execution_count": null,
      "outputs": []
    },
    {
      "metadata": {},
      "cell_type": "markdown",
      "source": "### Create the Keras Estimator"
    },
    {
      "metadata": {
        "trusted": true
      },
      "cell_type": "code",
      "source": "keras_est = TensorFlow(source_directory=project_folder,\n                       compute_target=compute_target,\n                       framework_version='2.0',\n                       entry_script='train.py',\n                       conda_packages=['pandas'],\n                       pip_packages=['azureml-dataprep[pandas]', 'keras==2.3.1'], # just add keras through pip\n                       use_gpu=True)",
      "execution_count": null,
      "outputs": []
    },
    {
      "metadata": {},
      "cell_type": "markdown",
      "source": "## Remotely train a deep learning model using the Azure ML Compute\nIn the following cells, you will *not* train the model against the data you just downloaded using the resources provided by Azure Notebooks. Instead, you will deploy an Azure ML Compute cluster that will download the data and use a trainings script to train the model. In other words, all of the training will be performed remotely with respect to this notebook. \n"
    },
    {
      "metadata": {
        "trusted": true
      },
      "cell_type": "code",
      "source": "# create project folder\nif not os.path.exists(project_folder):\n    os.makedirs(project_folder)",
      "execution_count": null,
      "outputs": []
    },
    {
      "metadata": {},
      "cell_type": "markdown",
      "source": "### Create the training script"
    },
    {
      "metadata": {
        "trusted": true
      },
      "cell_type": "code",
      "source": "%%writefile $project_folder/train.py\n\nimport os\nimport numpy as np\nimport pandas as pd\n\nimport keras\nfrom keras import models \nfrom keras import layers\nfrom keras import optimizers\nfrom keras.preprocessing.text import Tokenizer\nfrom keras.preprocessing.sequence import pad_sequences\nfrom keras.models import Sequential\nfrom keras.layers import Embedding, Flatten, Dense\n\nfrom azureml.core import Run\nfrom azureml.core.dataset import Dataset\n\ndatasets_folder = './datasets'\n\n# this is the URL to the CSV file containing the GloVe vectors\nglove_url = ('https://quickstartsws9073123377.blob.core.windows.net/'\n             'azureml-blobstore-0d1c4218-a5f9-418b-bf55-902b65277b85/'\n             'quickstarts/connected-car-data/glove.6B.100d.txt')\n\nglove_ds_name = 'glove_6B_100d'\nglove_ds_description ='GloVe embeddings 6B 100d'\n\n# this is the URL to the CSV file containing the care component descriptions\ncardata_url = ('https://quickstartsws9073123377.blob.core.windows.net/'\n            'azureml-blobstore-0d1c4218-a5f9-418b-bf55-902b65277b85/'\n            'quickstarts/connected-car-data/connected-car_components.csv')\n\ncardata_ds_name = 'connected_car_components'\ncardata_ds_description = 'Connected car components data'\n\nembedding_dim = 100                                        \ntraining_samples = 90000                                 \nvalidation_samples = 5000    \nmax_words = 10000\n\nrun = Run.get_context()\nws = run.experiment.workspace\n\nprint(\"Downloading GloVe embeddings...\")\n\ntry:\n    glove_ds = Dataset.get_by_name(workspace=ws, name=glove_ds_name)\n    print('GloVe embeddings dataset already registered.')\nexcept:\n    print('Registering GloVe embeddings dataset...')\n    glove_ds = Dataset.File.from_files(glove_url)\n    glove_ds.register(workspace=ws, name=glove_ds_name, description=glove_ds_description)\n    print('GloVe embeddings dataset successfully registered.')\n    \nfile_paths = glove_ds.download(target_path=datasets_folder, overwrite=True)\nglove_file_path = file_paths[0]\nprint(\"Download complete.\")\n\n\n# Load the car components labeled data\nprint(\"Loading car components data...\")\n\ntry:\n    cardata_ds = Dataset.get_by_name(workspace=ws, name=cardata_ds_name)\n    print('Connected car components dataset already registered.')\nexcept:\n    print('Registering connected car components dataset...')\n    cardata_ds = Dataset.Tabular.from_delimited_files(path=cardata_url)\n    cardata_ds.register(workspace=ws, name=cardata_ds_name, description=cardata_ds_description)\n    print('Connected car components dataset successfully registered.')\n\ncar_components_df = cardata_ds.to_pandas_dataframe()\ncomponents = car_components_df[\"text\"].tolist()\nlabels = car_components_df[\"label\"].tolist()\n\nprint(\"Loading car components data completed.\")\n\n\n# use the Tokenizer from Keras to \"learn\" a vocabulary from the entire car components text\nprint(\"Tokenizing data...\")    \n\ntokenizer = Tokenizer(num_words=max_words)\ntokenizer.fit_on_texts(components)\nsequences = tokenizer.texts_to_sequences(components)\n\nword_index = tokenizer.word_index\nprint('Found %s unique tokens.' % len(word_index))\n\ndata = pad_sequences(sequences, maxlen=embedding_dim)\n\nlabels = np.asarray(labels)\nprint('Shape of data tensor:', data.shape)\nprint('Shape of label tensor:', labels.shape)\n\nindices = np.arange(data.shape[0])  \nnp.random.seed(100)\nnp.random.shuffle(indices)\ndata = data[indices]\nlabels = labels[indices]\n\nx_train = data[:training_samples]\ny_train = labels[:training_samples]\n\nx_val = data[training_samples: training_samples + validation_samples]\ny_val = labels[training_samples: training_samples + validation_samples]\n\nx_test = data[training_samples + validation_samples:]\ny_test = labels[training_samples + validation_samples:]\nprint(\"Tokenizing data complete.\")\n\n# apply the vectors provided by GloVe to create a word embedding matrix\nprint(\"Applying GloVe vectors...\")\n\nembeddings_index = {}\nf = open(glove_file_path)\nfor line in f:\n    values = line.split()\n    word = values[0]\n    coefs = np.asarray(values[1:], dtype='float32')\n    embeddings_index[word] = coefs\nf.close()\n\nprint('Found %s word vectors.' % len(embeddings_index))\n\nembedding_matrix = np.zeros((max_words, embedding_dim))\nfor word, i in word_index.items():\n    if i < max_words:\n        embedding_vector = embeddings_index.get(word)\n        if embedding_vector is not None:\n            embedding_matrix[i] = embedding_vector    \nprint(\"Applying GloVe vectors compelted.\")\n\n# use Keras to define the structure of the deep neural network   \nprint(\"Creating model structure...\")\n\nmodel = Sequential()\nmodel.add(Embedding(max_words, embedding_dim, input_length=embedding_dim))\nmodel.add(Flatten())\nmodel.add(Dense(64, activation='relu'))\nmodel.add(Dense(32, activation='relu'))\nmodel.add(Dense(1, activation='sigmoid'))\nmodel.summary()\n\n# fix the weights for the first layer to those provided by the embedding matrix\nmodel.layers[0].set_weights([embedding_matrix])\nmodel.layers[0].trainable = False\nprint(\"Creating model structure completed.\")\n\nopt = optimizers.RMSprop(lr=0.1)\n\nprint(\"Training model...\")\nmodel.compile(optimizer=opt,\n              loss='binary_crossentropy',\n              metrics=['acc'])\nhistory = model.fit(x_train, y_train,\n                    epochs=3, \n                    batch_size=32,\n                    validation_data=(x_val, y_val))\nprint(\"Training model completed.\")\n\nprint(\"Saving model files...\")\n# create a ./outputs/model folder in the compute target\n# files saved in the \"./outputs\" folder are automatically uploaded into run history\nos.makedirs('./outputs/model', exist_ok=True)\n# save model\nmodel.save('./outputs/model/model.h5')\nprint(\"model saved in ./outputs/model folder\")\nprint(\"Saving model files completed.\")",
      "execution_count": null,
      "outputs": []
    },
    {
      "metadata": {},
      "cell_type": "markdown",
      "source": "## Submit the training run"
    },
    {
      "metadata": {},
      "cell_type": "markdown",
      "source": "The code pattern to submit a training run to Azure Machine Learning compute targets is always:\n\n- Create an experiment to run.\n- Submit the experiment.\n- Wait for the run to complete."
    },
    {
      "metadata": {},
      "cell_type": "markdown",
      "source": "### Create the experiment"
    },
    {
      "metadata": {
        "trusted": true
      },
      "cell_type": "code",
      "source": "experiment = Experiment(ws, experiment_name)",
      "execution_count": null,
      "outputs": []
    },
    {
      "metadata": {},
      "cell_type": "markdown",
      "source": "### Submit the experiment"
    },
    {
      "metadata": {
        "trusted": true
      },
      "cell_type": "code",
      "source": "run = experiment.submit(keras_est)",
      "execution_count": null,
      "outputs": []
    },
    {
      "metadata": {},
      "cell_type": "markdown",
      "source": "Wait for the run to complete by executing the following cell. Note that this process will perform the following:\n- Build and deploy the container to Azure Machine Learning compute (~8 minutes)\n- Execute the training script (~2 minutes)\n\nIf you change only the training script and re-submit, it will run faster the second time because the necessary container is already prepared so the time requried is just that for executing the training script.\n\n*Run the cell below and wait till the **Run Status** is **Completed** before proceeding ahead*"
    },
    {
      "metadata": {
        "trusted": true
      },
      "cell_type": "code",
      "source": "RunDetails(run).show()",
      "execution_count": null,
      "outputs": []
    },
    {
      "metadata": {},
      "cell_type": "markdown",
      "source": "## Download the model files from the run"
    },
    {
      "metadata": {},
      "cell_type": "markdown",
      "source": "In the training script, the Keras model is saved into two files, model.json and model.h5, in the outputs/models folder on the GPU cluster AmlCompute node. Azure ML automatically uploaded anything written in the ./outputs folder into run history file store. Subsequently, we can use the run object to download the model files. They are under the the outputs/model folder in the run history file store, and are downloaded into a local folder named model."
    },
    {
      "metadata": {
        "trusted": true
      },
      "cell_type": "code",
      "source": "# create a model folder in the current directory\nos.makedirs('./model', exist_ok=True)\n\nfor f in run.get_file_names():\n    if f.startswith('outputs/model'):\n        output_file_path = os.path.join('./model', f.split('/')[-1])\n        print('Downloading from {} to {} ...'.format(f, output_file_path))\n        run.download_file(name=f, output_file_path=output_file_path)\n        print('Download completed.')",
      "execution_count": null,
      "outputs": []
    },
    {
      "metadata": {},
      "cell_type": "markdown",
      "source": "## Restore the model from model.h5 file"
    },
    {
      "metadata": {
        "trusted": true
      },
      "cell_type": "code",
      "source": "model = load_model('./model/model.h5')\nprint(\"Model loaded from disk.\")\nprint(model.summary())",
      "execution_count": null,
      "outputs": []
    },
    {
      "metadata": {},
      "cell_type": "markdown",
      "source": "## Evaluate the model on test data"
    },
    {
      "metadata": {},
      "cell_type": "markdown",
      "source": "You can also evaluate how accurately the model performs against data it has not seen. Run the following cell to load the test data that was not used in either training or evaluating the model. "
    },
    {
      "metadata": {
        "trusted": true
      },
      "cell_type": "code",
      "source": "# Load the car components labeled data\nprint(\"Loading car components data...\")\n\ncardata_ds = Dataset.get_by_name(workspace=ws, name=cardata_ds_name)\ncar_components_df = cardata_ds.to_pandas_dataframe()\ncomponents = car_components_df[\"text\"].tolist()\nlabels = car_components_df[\"label\"].tolist()\n\nprint(\"Loading car components data completed.\")   \n\ntokenizer = Tokenizer(num_words=max_words)\ntokenizer.fit_on_texts(components)\nsequences = tokenizer.texts_to_sequences(components)\n\nword_index = tokenizer.word_index\nprint('Found %s unique tokens.' % len(word_index))\n\ndata = pad_sequences(sequences, maxlen=embedding_dim)\n\nlabels = np.asarray(labels)\nprint('Shape of data tensor:', data.shape)\nprint('Shape of label tensor:', labels.shape)\n\nindices = np.arange(data.shape[0])      \nnp.random.seed(100)\nnp.random.shuffle(indices)\ndata = data[indices]\nlabels = labels[indices]\n\nx_test = data[training_samples + validation_samples:]\ny_test = labels[training_samples + validation_samples:]",
      "execution_count": null,
      "outputs": []
    },
    {
      "metadata": {},
      "cell_type": "markdown",
      "source": "Run the following cell to see the accuracy on the test set (it is the second number in the array displayed, on a scale from 0 to 1)."
    },
    {
      "metadata": {
        "trusted": true
      },
      "cell_type": "code",
      "source": "print('Model evaluation will print the following metrics: ', model.metrics_names)\nevaluation_metrics = model.evaluate(x_test, y_test)\nprint(evaluation_metrics)",
      "execution_count": null,
      "outputs": []
    },
    {
      "metadata": {},
      "cell_type": "markdown",
      "source": "Log the evaluation metrics to the to the experiment **Run**"
    },
    {
      "metadata": {
        "trusted": true
      },
      "cell_type": "code",
      "source": "run.log(model.metrics_names[0], evaluation_metrics[0], 'Model test data loss')\nrun.log(model.metrics_names[1], evaluation_metrics[1], 'Model test data accuracy')",
      "execution_count": null,
      "outputs": []
    },
    {
      "metadata": {},
      "cell_type": "markdown",
      "source": "**Save the run information to json file**"
    },
    {
      "metadata": {
        "trusted": true
      },
      "cell_type": "code",
      "source": "run_info = {}\nrun_info[\"id\"] = run.id\n\nprint(\"Saving run_info.json...\")\nos.makedirs('./outputs', exist_ok=True)\nrun_info_filepath = os.path.join('./outputs', 'run_info.json')\nwith open(run_info_filepath, \"w\") as f:\n    json.dump(run_info, f)",
      "execution_count": null,
      "outputs": []
    }
  ],
  "metadata": {
    "kernelspec": {
      "name": "python36",
      "display_name": "Python 3.6",
      "language": "python"
    },
    "language_info": {
      "mimetype": "text/x-python",
      "nbconvert_exporter": "python",
      "name": "python",
      "pygments_lexer": "ipython3",
      "version": "3.6.6",
      "file_extension": ".py",
      "codemirror_mode": {
        "version": 3,
        "name": "ipython"
      }
    },
    "name": "Deep Learning",
    "notebookId": 2340934485665719
  },
  "nbformat": 4,
  "nbformat_minor": 1
}